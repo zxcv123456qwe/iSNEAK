{
 "cells": [
  {
   "cell_type": "code",
   "execution_count": 1,
   "metadata": {},
   "outputs": [],
   "source": [
    "import pycosat\n",
    "import secrets\n",
    "import math\n",
    "import numpy as np\n",
    "# import pandas\n",
    "import time\n",
    "import pandas as pd\n",
    "# import matplotlib\n",
    "import matplotlib.pyplot as plt\n",
    "# import seaborn\n",
    "import scipy.stats as st\n",
    "import seaborn as sns\n",
    "from sklearn.neural_network import MLPRegressor\n",
    "%matplotlib inline\n",
    "\n"
   ]
  },
  {
   "cell_type": "code",
   "execution_count": 2,
   "metadata": {},
   "outputs": [],
   "source": [
    "def gen_scores(value):\n",
    "    scores = []\n",
    "    for i in range(NUM_FEATURES):\n",
    "        scores.append(np.random.randint(0,101))\n",
    "    total = np.sum(scores)\n",
    "    final_scores = []\n",
    "    for score in scores:\n",
    "        final_scores.append(score/total*100)\n",
    "    return final_scores"
   ]
  },
  {
   "cell_type": "code",
   "execution_count": 4,
   "metadata": {},
   "outputs": [],
   "source": [
    "#Equation = totalcost**2 + knowndefects**2 + (124 - featuresused)**2 + 1.5*(100 - userscore)**2"
   ]
  },
  {
   "cell_type": "code",
   "execution_count": 3,
   "metadata": {},
   "outputs": [],
   "source": [
    "def fitness(individual, score):\n",
    "    totalcost = sum(np.multiply(individual, costs))\n",
    "    knowndefects = sum(np.multiply(individual, defective))\n",
    "    featuresused = sum(np.multiply(individual, used))\n",
    "    #print(totalcost, knowndefects, featuresused, score)\n",
    "    sumsq = lambda *args: sum([i ** 2 for i in args])\n",
    "    return sumsq(totalcost, knowndefects, 124-featuresused, 1.5*(100 - score))"
   ]
  },
  {
   "cell_type": "code",
   "execution_count": 4,
   "metadata": {},
   "outputs": [],
   "source": [
    "def boolean_to_CNF(solution):\n",
    "    cnf = []\n",
    "    for i, val in enumerate(solution):\n",
    "        if val == 1:\n",
    "            cnf.append(i+1)\n",
    "        else:\n",
    "            cnf.append(-1*(i+1))\n",
    "    return cnf"
   ]
  },
  {
   "cell_type": "code",
   "execution_count": 5,
   "metadata": {},
   "outputs": [],
   "source": [
    "def validate_CNF(cnf, individual):\n",
    "    for clause in cnf:\n",
    "        valid = False\n",
    "        for val in clause:\n",
    "            if individual[abs(val)-1] == val:\n",
    "                valid = True\n",
    "        if not valid:\n",
    "            return False\n",
    "    return True"
   ]
  },
  {
   "cell_type": "code",
   "execution_count": 6,
   "metadata": {},
   "outputs": [],
   "source": [
    "def can_we_stop_running(best_score, scores):\n",
    "    if len(scores):\n",
    "        print(best_score / max(scores))\n",
    "        return best_score / max(scores) <= .46\n",
    "    return False"
   ]
  },
  {
   "cell_type": "code",
   "execution_count": 7,
   "metadata": {},
   "outputs": [],
   "source": [
    "def train(X_train, y_train):\n",
    "    return MLPRegressor(random_state=1, max_iter=500).fit(X_train, y_train)"
   ]
  },
  {
   "cell_type": "code",
   "execution_count": 8,
   "metadata": {},
   "outputs": [],
   "source": [
    "def predict(item, X_train, y_train):\n",
    "    #print(X_train, y_train)\n",
    "    #import pdb;pdb.set_trace()\n",
    "    clf = MLPRegressor(random_state=1, max_iter=500).fit(X_train, y_train)\n",
    "    return clf.predict([item])"
   ]
  },
  {
   "cell_type": "code",
   "execution_count": 9,
   "metadata": {},
   "outputs": [],
   "source": [
    "def mutate(population, p=.01):\n",
    "    mutated = list(map(lambda s: [1 - x if np.random.rand() <= p else x for x in s  ], population))\n",
    "    return list(filter(lambda s: np.random.rand() <= .75, mutated))"
   ]
  },
  {
   "cell_type": "code",
   "execution_count": 10,
   "metadata": {},
   "outputs": [],
   "source": [
    "def mutate2(population, scores, p=.01):\n",
    "    size = len(population)\n",
    "    wanted_size = NUM_MUTATED\n",
    "    idx = np.argsort(scores)[:wanted_size]\n",
    "    ret_pop = []\n",
    "    for i in idx:\n",
    "        ret_pop.append(population[i])\n",
    "    mutated = list(map(lambda s: [1 - x if np.random.rand() <= p else x for x in s  ], ret_pop))\n",
    "    return mutated"
   ]
  },
  {
   "cell_type": "code",
   "execution_count": 11,
   "metadata": {},
   "outputs": [],
   "source": [
    "def cull(population, scores):\n",
    "    size = len(population)\n",
    "    wanted_size = int(.25 * size)\n",
    "    idx = np.argsort(scores)[:wanted_size]\n",
    "    print(idx)\n",
    "    ret_pop, ret_scores = [],[]\n",
    "    for i in idx:\n",
    "        ret_pop.append(population[i])\n",
    "        ret_scores.append(scores[i])\n",
    "    return ret_pop, ret_scores"
   ]
  },
  {
   "cell_type": "code",
   "execution_count": 12,
   "metadata": {},
   "outputs": [],
   "source": [
    "def sort(population, scores):\n",
    "    return population, scores\n",
    "    idx = np.argsort(scores)\n",
    "    print(idx)\n",
    "    ret_pop, ret_scores = [],[]\n",
    "    for i in idx:\n",
    "        ret_pop.append(population[i])\n",
    "        ret_scores.append(scores[i])\n",
    "    return ret_pop, ret_scores"
   ]
  },
  {
   "cell_type": "code",
   "execution_count": 13,
   "metadata": {},
   "outputs": [],
   "source": [
    "def oracle(item, human):\n",
    "    return int(np.sum(np.multiply(item, human)))"
   ]
  },
  {
   "cell_type": "code",
   "execution_count": 14,
   "metadata": {},
   "outputs": [],
   "source": [
    "def ga_method(initial_population, cnf, interaction_number, stop_criteria):\n",
    "    cur_interaction_number = interaction_number\n",
    "    cur_population = initial_population\n",
    "    scores = []\n",
    "    human_scores = []\n",
    "    best_score = 1e7\n",
    "    produced_items = []\n",
    "    best_item = None\n",
    "    cur_i = 0\n",
    "    while not can_we_stop_running(best_score, scores):\n",
    "        if cur_i == len(cur_population) -1:\n",
    "            cur_population = mutate(produced_items)\n",
    "            produced_items , scores = cull(produced_items, scores)\n",
    "            cur_interaction_number = interaction_number\n",
    "            cur_i = 0\n",
    "            pass\n",
    "        elif cur_interaction_number > 0:\n",
    "            cur_interaction_number -= 1\n",
    "            score = oracle(cur_population[cur_i], human)\n",
    "            produced_items.append(cur_population[cur_i])\n",
    "            ind_fit = fitness(cur_population[cur_i], score)\n",
    "            scores.append(ind_fit)\n",
    "            human_scores.append(score)\n",
    "            if ind_fit < best_score:\n",
    "                best_score = ind_fit\n",
    "                best_item = cur_population[cur_i]\n",
    "        elif cur_interaction_number == 0:\n",
    "            score = predict(cur_population[cur_i], produced_items, human_scores)\n",
    "            produced_items.append(cur_population[cur_i])\n",
    "            ind_fit = fitness(cur_population[cur_i], score)\n",
    "            scores.append(ind_fit)\n",
    "            human_scores.append(score)\n",
    "            if ind_fit < best_score:\n",
    "                best_score = ind_fit\n",
    "                best_item = cur_population[cur_i]\n",
    "        cur_i+=1\n",
    "            \n",
    "        \n",
    "    return best_item, best_score, produced_items, scores\n",
    "    \n",
    "    "
   ]
  },
  {
   "cell_type": "code",
   "execution_count": 15,
   "metadata": {},
   "outputs": [],
   "source": [
    "def ga_method2(initial_population, interaction_number, generations):\n",
    "    cur_interaction_number = interaction_number\n",
    "    cur_population = initial_population\n",
    "    fits = []\n",
    "    human_scores = []\n",
    "    best_score = 1e7\n",
    "    produced_items = []\n",
    "    best_item = None\n",
    "    cur_i = 0\n",
    "    model = None\n",
    "    cur_generation = 0\n",
    "    print('----------generation', cur_generation, 'with population', len(cur_population), '---------------')\n",
    "\n",
    "    while cur_generation < generations -1:\n",
    "        if cur_i == len(cur_population) -1:\n",
    "            cur_generation += 1\n",
    "            cur_population += mutate2(produced_items, fits)\n",
    "            print('----------generation', cur_generation, 'with population', len(cur_population), '---------------')\n",
    "            cur_i+=1\n",
    "\n",
    "        if cur_interaction_number > 0:\n",
    "            cur_interaction_number -= 1\n",
    "            score = oracle(cur_population[cur_i], human)\n",
    "            produced_items.append(cur_population[cur_i])\n",
    "            ind_fit = fitness(cur_population[cur_i], score)\n",
    "            fits.append(ind_fit)\n",
    "            human_scores.append(score)\n",
    "            if ind_fit < best_score:\n",
    "                best_score = ind_fit\n",
    "                best_item = cur_population[cur_i]\n",
    "            cur_i+=1\n",
    "        if cur_interaction_number == 0:\n",
    "            cur_interaction_number -=1\n",
    "            model = train(produced_items, human_scores)\n",
    "            model.predict([cur_population[cur_i]])\n",
    "            produced_items.append(cur_population[cur_i])\n",
    "            ind_fit = fitness(cur_population[cur_i], score)\n",
    "            fits.append(ind_fit)\n",
    "            human_scores.append(score)\n",
    "            if ind_fit < best_score:\n",
    "                best_score = ind_fit\n",
    "                best_item = cur_population[cur_i]\n",
    "            cur_i+=1\n",
    "        if cur_interaction_number < 0:\n",
    "            cur_interaction_number -=1\n",
    "            model.predict([cur_population[cur_i]])\n",
    "            produced_items.append(cur_population[cur_i])\n",
    "            ind_fit = fitness(cur_population[cur_i], score)\n",
    "            fits.append(ind_fit)\n",
    "            human_scores.append(score)\n",
    "            if ind_fit < best_score:\n",
    "                best_score = ind_fit\n",
    "                best_item = cur_population[cur_i]\n",
    "            cur_i+=1\n",
    "        \n",
    "        \n",
    "    return best_item, best_score, produced_items, fits\n",
    "    "
   ]
  },
  {
   "cell_type": "code",
   "execution_count": 16,
   "metadata": {
    "scrolled": true
   },
   "outputs": [
    {
     "ename": "FileNotFoundError",
     "evalue": "[Errno 2] No such file or directory: 'IncreasingF/FFM-125-25-0.50-SAT-1.dimacs'",
     "output_type": "error",
     "traceback": [
      "\u001b[1;31m---------------------------------------------------------------------------\u001b[0m",
      "\u001b[1;31mFileNotFoundError\u001b[0m                         Traceback (most recent call last)",
      "\u001b[1;32m~\\AppData\\Local\\Temp/ipykernel_5508/2328279842.py\u001b[0m in \u001b[0;36m<module>\u001b[1;34m\u001b[0m\n\u001b[0;32m      5\u001b[0m \u001b[1;32mfor\u001b[0m \u001b[0mi\u001b[0m \u001b[1;32min\u001b[0m \u001b[0mrange\u001b[0m\u001b[1;33m(\u001b[0m\u001b[1;36m20\u001b[0m\u001b[1;33m)\u001b[0m\u001b[1;33m:\u001b[0m\u001b[1;33m\u001b[0m\u001b[1;33m\u001b[0m\u001b[0m\n\u001b[0;32m      6\u001b[0m     \u001b[0mhuman\u001b[0m \u001b[1;33m=\u001b[0m \u001b[0mgen_scores\u001b[0m\u001b[1;33m(\u001b[0m\u001b[1;36m100\u001b[0m\u001b[1;33m)\u001b[0m\u001b[1;33m\u001b[0m\u001b[1;33m\u001b[0m\u001b[0m\n\u001b[1;32m----> 7\u001b[1;33m     \u001b[0mfile\u001b[0m \u001b[1;33m=\u001b[0m \u001b[0mopen\u001b[0m\u001b[1;33m(\u001b[0m\u001b[1;34m\"IncreasingF/FFM-125-25-0.50-SAT-1.dimacs\"\u001b[0m\u001b[1;33m)\u001b[0m\u001b[1;33m\u001b[0m\u001b[1;33m\u001b[0m\u001b[0m\n\u001b[0m\u001b[0;32m      8\u001b[0m     \u001b[0mlines\u001b[0m \u001b[1;33m=\u001b[0m \u001b[0mfile\u001b[0m\u001b[1;33m.\u001b[0m\u001b[0mreadlines\u001b[0m\u001b[1;33m(\u001b[0m\u001b[1;33m)\u001b[0m\u001b[1;33m\u001b[0m\u001b[1;33m\u001b[0m\u001b[0m\n\u001b[0;32m      9\u001b[0m     \u001b[0mnames\u001b[0m \u001b[1;33m=\u001b[0m \u001b[1;33m[\u001b[0m\u001b[1;33m]\u001b[0m\u001b[1;33m\u001b[0m\u001b[1;33m\u001b[0m\u001b[0m\n",
      "\u001b[1;31mFileNotFoundError\u001b[0m: [Errno 2] No such file or directory: 'IncreasingF/FFM-125-25-0.50-SAT-1.dimacs'"
     ]
    }
   ],
   "source": [
    "from csv import reader\n",
    "NUM_FEATURES = 128\n",
    "NUM_SOLUTIONS = 100\n",
    "NUM_MUTATED = 100\n",
    "a, c, d, u, s, cv, dv, uv, sv,v, t = [], [], [], [], [], [], [], [], [], [], []\n",
    "for i in range(20):\n",
    "    human = gen_scores(100)\n",
    "    \n",
    "    costs = [secrets.randbelow(10) for _ in range(NUM_FEATURES)]\n",
    "    defective = [bool(secrets.randbelow(2)) for _ in range(NUM_FEATURES)]\n",
    "    used = [bool(secrets.randbelow(2)) for _ in range(NUM_FEATURES)]\n",
    "    items = []\n",
    "    with open('CSVModels/Scrum10k.csv', 'r') as read_obj:\n",
    "            binary_solutions = [[int(x) for x in rec]\n",
    "                                for rec in reader(read_obj, delimiter=',')]\n",
    "            \n",
    "            for i, item in enumerate(binary_solutions):\n",
    "                items.append(item)\n",
    "    print(i)\n",
    "    solutions = [[1 if val > 0 else 0 for val in sol] for sol in cnfsol]\n",
    "    start_time = time.time()\n",
    "    best_item, score, produced_items, scores = ga_method2(solutions, 80, 100)\n",
    "    a.append(80)\n",
    "    total_time = time.time() - start_time\n",
    "    t.append(total_time)\n",
    "    print(\"it took\", total_time ,\"seconds\")\n",
    "    valid = 0\n",
    "    valid_items, valid_scores = [], []\n",
    "    for item, sc in zip(produced_items, scores):\n",
    "        sol = boolean_to_CNF(item)\n",
    "        if validate_CNF(cnf, sol):\n",
    "            valid+=1\n",
    "            valid_items.append(item)\n",
    "            valid_scores.append(sc)\n",
    "    totalcost = sum(np.multiply(best_item, costs))\n",
    "    \n",
    "    knowndefects = sum(np.multiply(best_item, defective))\n",
    "   \n",
    "    featuresused = sum(np.multiply(best_item, used))\n",
    "    fit = st.percentileofscore(scores, score)\n",
    "    c.append(totalcost)\n",
    "    d.append(knowndefects)\n",
    "    u.append(featuresused)\n",
    "    s.append(fit)\n",
    "    print(\"Percentile of all solutions =\", st.percentileofscore(scores, score))\n",
    "    print(\"Valid:\", valid)\n",
    "    print(\"Not Valid:\", len(produced_items)-valid)\n",
    "    print(\"%Valid:\", valid/len(produced_items))\n",
    "    v.append(valid/len(produced_items))\n",
    "    sorted_i, sorted_scores = sort(valid_items, valid_scores)\n",
    "    totalcostv = sum(np.multiply(sorted_i[0], costs))\n",
    "    knowndefectsv = sum(np.multiply(sorted_i[0], defective))\n",
    "    featuresusedv = sum(np.multiply(sorted_i[0], used))\n",
    "    fitv = st.percentileofscore(sorted_scores, sorted_scores[0])\n",
    "    cv.append(totalcostv)\n",
    "    dv.append(knowndefectsv)\n",
    "    uv.append(featuresusedv)\n",
    "    sv.append(fitv)\n",
    "    print(\"Percentile of best valid solution =\", st.percentileofscore(sorted_scores, sorted_scores[0]))\n",
    "    \n",
    "df = pd.DataFrame(\n",
    "    {\n",
    "        'Asked': a,\n",
    "        'Cost': c,\n",
    "        'Known Defects': d,\n",
    "        'Features Used': u,\n",
    "        'Score': s,\n",
    "        'Valid %':v,\n",
    "        'Valid Cost': cv,\n",
    "        'Valid Known Defects': dv,\n",
    "        'Valid Features Used': uv,\n",
    "        'Valid Score': sv,\n",
    "        'Time': t\n",
    "     }).T\n",
    "df.to_csv('BaselineScores/ScoreFFM-125-25-0.50-SAT-1.csv')\n",
    "\n"
   ]
  },
  {
   "cell_type": "code",
   "execution_count": null,
   "metadata": {},
   "outputs": [],
   "source": []
  },
  {
   "cell_type": "code",
   "execution_count": null,
   "metadata": {},
   "outputs": [],
   "source": []
  }
 ],
 "metadata": {
  "kernelspec": {
   "display_name": "Python 3 (ipykernel)",
   "language": "python",
   "name": "python3"
  },
  "language_info": {
   "codemirror_mode": {
    "name": "ipython",
    "version": 3
   },
   "file_extension": ".py",
   "mimetype": "text/x-python",
   "name": "python",
   "nbconvert_exporter": "python",
   "pygments_lexer": "ipython3",
   "version": "3.9.7"
  }
 },
 "nbformat": 4,
 "nbformat_minor": 2
}
